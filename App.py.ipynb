{
 "cells": [
  {
   "cell_type": "code",
   "execution_count": 24,
   "id": "b0291d72",
   "metadata": {},
   "outputs": [],
   "source": [
    "import streamlit as st \n",
    "import pickle \n",
    "import nltk\n",
    "import string\n",
    "\n",
    "# for Removing Stopwords and Punctuation\n",
    "from nltk.corpus import stopwords\n",
    "import string \n",
    "\n",
    "# for Stemming\n",
    "from nltk.stem.porter import PorterStemmer\n",
    "PS = PorterStemmer()"
   ]
  },
  {
   "cell_type": "code",
   "execution_count": 25,
   "id": "e2aeba91",
   "metadata": {},
   "outputs": [],
   "source": [
    "# Importing the model and tdidf"
   ]
  },
  {
   "cell_type": "code",
   "execution_count": 26,
   "id": "5497dd39",
   "metadata": {},
   "outputs": [],
   "source": [
    "tfidf = pickle.load(open('vectorizer.pkl','rb'))\n",
    "model = pickle.load(open('model.pkl','rb'))"
   ]
  },
  {
   "cell_type": "code",
   "execution_count": 27,
   "id": "58f1f39f",
   "metadata": {},
   "outputs": [],
   "source": [
    "# Pre-processing the Email that has been provided"
   ]
  },
  {
   "cell_type": "code",
   "execution_count": 28,
   "id": "bfde8ff7",
   "metadata": {},
   "outputs": [],
   "source": [
    "def transform_text(text):\n",
    "    text = text.lower()   # Lowercasing\n",
    "    text = nltk.word_tokenize(text) #Tokenizing(Breaking a sentence into words)\n",
    "    \n",
    "    y = []\n",
    "    for i in text:\n",
    "        if i.isalnum(): # Removing Special Characters \n",
    "            y.append(i)\n",
    "    text = y.copy()\n",
    "    #print(text)\n",
    "    y.clear()\n",
    "    \n",
    "    for i in text:     # Removing Stopwords and punctuations\n",
    "        if i not in stopwords.words('english') and i not in string.punctuation:\n",
    "            y.append(i)\n",
    "            \n",
    "    text = y.copy()\n",
    "    y.clear()\n",
    "        \n",
    "    for i in text:     # Stemming the word to root form\n",
    "        y.append(PS.stem(i))\n",
    "        \n",
    "    \n",
    "    return \" \".join(y)"
   ]
  },
  {
   "cell_type": "code",
   "execution_count": 29,
   "id": "d0eafee9",
   "metadata": {},
   "outputs": [],
   "source": [
    "st.title('Email Spam Classifier')\n",
    "input_email = st.text_input('Enter the Email')"
   ]
  },
  {
   "cell_type": "code",
   "execution_count": 30,
   "id": "1b910894",
   "metadata": {},
   "outputs": [],
   "source": [
    "# STEP 1: Transform the data(Lowrcasing, removing special characters, removing stopwords, punctuation, stemming)"
   ]
  },
  {
   "cell_type": "code",
   "execution_count": 31,
   "id": "97ec321d",
   "metadata": {},
   "outputs": [],
   "source": [
    "transformed_email = transform_text(input_email)"
   ]
  },
  {
   "cell_type": "code",
   "execution_count": 32,
   "id": "b799e3ea",
   "metadata": {},
   "outputs": [],
   "source": [
    "# STEP 2: Vectorizating the Transfromed_email"
   ]
  },
  {
   "cell_type": "code",
   "execution_count": 33,
   "id": "c76d13d6",
   "metadata": {},
   "outputs": [],
   "source": [
    "vector_input = tfidf.transform([transformed_email])"
   ]
  },
  {
   "cell_type": "code",
   "execution_count": 34,
   "id": "dee6d9cd",
   "metadata": {},
   "outputs": [],
   "source": [
    "# STEP 3: Predict using the model."
   ]
  },
  {
   "cell_type": "code",
   "execution_count": 35,
   "id": "5194ad1c",
   "metadata": {},
   "outputs": [],
   "source": [
    "result = model.predict(vector_input)"
   ]
  },
  {
   "cell_type": "code",
   "execution_count": 36,
   "id": "c5466963",
   "metadata": {},
   "outputs": [],
   "source": [
    "if result == 1:\n",
    "    st.header('Email is SPAM')\n",
    "else:\n",
    "    st.header('Email is not a SPAM')"
   ]
  }
 ],
 "metadata": {
  "kernelspec": {
   "display_name": "Python 3 (ipykernel)",
   "language": "python",
   "name": "python3"
  },
  "language_info": {
   "codemirror_mode": {
    "name": "ipython",
    "version": 3
   },
   "file_extension": ".py",
   "mimetype": "text/x-python",
   "name": "python",
   "nbconvert_exporter": "python",
   "pygments_lexer": "ipython3",
   "version": "3.11.4"
  }
 },
 "nbformat": 4,
 "nbformat_minor": 5
}
